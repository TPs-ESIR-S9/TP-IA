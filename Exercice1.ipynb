{
 "cells": [
  {
   "cell_type": "markdown",
   "metadata": {},
   "source": [
    "## III. Exercise 1 : Building a neural network to classify texts (multi-layer perceptron (MLP))\n",
    "\n",
    "### III.1 Phenomena of over-fitting and under-fitting\n",
    "\n",
    "- https://keras.io/datasets/\n",
    "\n",
    "- Explore the dataset and calculate some basic statistics. Try to recover at least one review with the\n",
    "help of the dictionary mapping (based on this Tensorflow tutorial).\n",
    "\n",
    "- Experiment with different network sizes : try to reduce or increase the network size, and observe the\n",
    "effect on the performance (accuracy of the prediction) and the running time.\n",
    "\n",
    "- Change the network parameters to demonstrate the effects of over-fitting. Example."
   ]
  },
  {
   "cell_type": "code",
   "execution_count": 1,
   "metadata": {},
   "outputs": [
    {
     "ename": "NameError",
     "evalue": "name 'hello' is not defined",
     "output_type": "error",
     "traceback": [
      "\u001b[1;31m---------------------------------------------------------------------------\u001b[0m",
      "\u001b[1;31mNameError\u001b[0m                                 Traceback (most recent call last)",
      "\u001b[1;32mc:\\Users\\thome\\Documents\\ESIR\\ESIR3\\TP-IA\\TP1_2\\Exercice1.ipynb Cell 2\u001b[0m line \u001b[0;36m1\n\u001b[1;32m----> <a href='vscode-notebook-cell:/c%3A/Users/thome/Documents/ESIR/ESIR3/TP-IA/TP1_2/Exercice1.ipynb#W0sZmlsZQ%3D%3D?line=0'>1</a>\u001b[0m \u001b[39mprint\u001b[39m(hello)\n",
      "\u001b[1;31mNameError\u001b[0m: name 'hello' is not defined"
     ]
    }
   ],
   "source": [
    "print(hello)"
   ]
  },
  {
   "cell_type": "markdown",
   "metadata": {},
   "source": []
  }
 ],
 "metadata": {
  "kernelspec": {
   "display_name": "Python 3",
   "language": "python",
   "name": "python3"
  },
  "language_info": {
   "codemirror_mode": {
    "name": "ipython",
    "version": 3
   },
   "file_extension": ".py",
   "mimetype": "text/x-python",
   "name": "python",
   "nbconvert_exporter": "python",
   "pygments_lexer": "ipython3",
   "version": "3.11.6"
  }
 },
 "nbformat": 4,
 "nbformat_minor": 2
}
