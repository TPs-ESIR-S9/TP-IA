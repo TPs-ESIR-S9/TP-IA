{
 "cells": [
  {
   "cell_type": "markdown",
   "metadata": {},
   "source": [
    "## III. Exercise 1 : Building a neural network to classify texts (multi-layer perceptron (MLP))\n",
    "\n",
    "### III.1 Phenomena of over-fitting and under-fitting\n",
    "\n",
    "- https://keras.io/datasets/\n",
    "\n",
    "- Explore the dataset and calculate some basic statistics. Try to recover at least one review with the\n",
    "help of the dictionary mapping (based on this Tensorflow tutorial).\n",
    "\n",
    "- Experiment with different network sizes : try to reduce or increase the network size, and observe the\n",
    "effect on the performance (accuracy of the prediction) and the running time.\n",
    "\n",
    "- Change the network parameters to demonstrate the effects of over-fitting. Example."
   ]
  },
  {
   "cell_type": "code",
   "execution_count": null,
   "metadata": {},
   "outputs": [],
   "source": []
  },
  {
   "cell_type": "markdown",
   "metadata": {},
   "source": []
  }
 ],
 "metadata": {
  "language_info": {
   "name": "python"
  }
 },
 "nbformat": 4,
 "nbformat_minor": 2
}
