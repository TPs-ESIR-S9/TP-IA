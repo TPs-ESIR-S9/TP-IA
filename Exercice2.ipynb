{
 "cells": [
  {
   "cell_type": "markdown",
   "metadata": {},
   "source": [
    "## IV. Exercise 2 : Recurrent Neural Network and IMDB classification\n",
    "\n",
    "In this exercise you will familiarize yourself with recurrent neural networks and in particular with LSTM.\n",
    "- https://www.tensorflow.org/api_docs/python/tf/keras/datasets/imdb/load_data\n",
    "- https://github.com/hansmichaels/sentiment-analysis-IMDB-Review-using-LSTM/blob/master/sentiment_analysis.py.ipynb\n",
    "\n",
    "un the example code. Analyze the performance of the classifier on the test set and training set :\n",
    "- If your training loss is smaller than test loss, then your network is likely to overfit. In that case, add\n",
    "(or increase) dropout and/or decrease the network size.\n",
    "- If your training loss and test loss is almost the same, then your model is likely to underfit. In that\n",
    "case, increase the size of the network and/or the number of nodes/layer.\n",
    "Do not forget to include all your remarks in your report !\n",
    "\n",
    "- https://www.tensorflow.org/text/tutorials/text_classification_rnn?hl=fr\n",
    "- https://machinelearningmastery.com/sequence-classification-lstm-recurrent-neural-networks-python-keras/\n",
    "- https://colah.github.io/posts/2015-08-Understanding-LSTMs/"
   ]
  },
  {
   "cell_type": "code",
   "execution_count": null,
   "metadata": {},
   "outputs": [],
   "source": []
  },
  {
   "cell_type": "markdown",
   "metadata": {},
   "source": []
  }
 ],
 "metadata": {
  "language_info": {
   "name": "python"
  }
 },
 "nbformat": 4,
 "nbformat_minor": 2
}
